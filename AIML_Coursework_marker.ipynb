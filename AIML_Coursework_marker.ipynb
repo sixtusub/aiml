{
 "cells": [
  {
   "cell_type": "markdown",
   "metadata": {},
   "source": [
    "# AIML Coursework marker\n",
    "\n",
    "<div class=\"alert alert-block alert-danger\"> <b>REMEMBER:</b> You need to make sure you are running this code within the virtual environment you created using 'AIenv'.<br> In Jupyter click on the kernel menu then change-kernel. In VSCode use the kernel selector in the top-right hand corner </div>"
   ]
  },
  {
   "cell_type": "code",
   "execution_count": null,
   "metadata": {},
   "outputs": [
    {
     "ename": "",
     "evalue": "",
     "output_type": "error",
     "traceback": [
      "\u001b[1;31mFailed to start the Kernel. \n",
      "\u001b[1;31mUnable to start Kernel 'Python' due to connection timeout. \n",
      "\u001b[1;31mView Jupyter <a href='command:jupyter.viewOutput'>log</a> for further details."
     ]
    }
   ],
   "source": [
    "import re\n",
    "import random\n",
    "import aiml\n",
    "\n",
    "def preprocessSingleInput(bot,theInput):\n",
    "    # run the input through the 'normal' subber- only wortks for a single sentence\n",
    "    subbed1 = bot._subbers['normal'].sub(theInput).upper()\n",
    "    subbed2 = re.sub(bot._brain._puncStripRE, \" \", subbed1)\n",
    "    return(subbed2)\n",
    "    "
   ]
  },
  {
   "cell_type": "markdown",
   "metadata": {},
   "source": [
    "# Next cell sets up variables\n",
    "- You can change the amount of debugging information printed to screen by setting debug=True\n",
    "- you can change the name of your input file to something other than \"student.aiml\" if you want.\n",
    "- **Dont change anything else**"
   ]
  },
  {
   "cell_type": "code",
   "execution_count": null,
   "metadata": {},
   "outputs": [
    {
     "ename": "",
     "evalue": "",
     "output_type": "error",
     "traceback": [
      "\u001b[1;31mFailed to start the Kernel. \n",
      "\u001b[1;31mUnable to start Kernel 'Python' due to connection timeout. \n",
      "\u001b[1;31mView Jupyter <a href='command:jupyter.viewOutput'>log</a> for further details."
     ]
    }
   ],
   "source": [
    "debug = True\n",
    "debug2 = True\n",
    "theAIMLfile = \"marcus.aiml\"\n",
    "theQuestionsFileName = \"coursework-questions-and-responses.txt\"\n",
    "responsesFileName = theAIMLfile[:-5] +\"-responses.txt\"\n",
    "feedbackFileName = theAIMLfile[:-5] +\"-feedback.txt\"\n",
    "NUMQS =45\n",
    "NUMCONTEXTQS=3\n",
    "contextQuestions = [35,42,44]"
   ]
  },
  {
   "cell_type": "markdown",
   "metadata": {},
   "source": [
    "# Read the questions and answer from file, then randomise the order"
   ]
  },
  {
   "cell_type": "code",
   "execution_count": null,
   "metadata": {},
   "outputs": [
    {
     "ename": "",
     "evalue": "",
     "output_type": "error",
     "traceback": [
      "\u001b[1;31mFailed to start the Kernel. \n",
      "\u001b[1;31mUnable to start Kernel 'Python' due to connection timeout. \n",
      "\u001b[1;31mView Jupyter <a href='command:jupyter.viewOutput'>log</a> for further details."
     ]
    }
   ],
   "source": [
    "#declare arrays to hold the questions and answers\n",
    "# questions = [\"coursework-questions-and-responses.txt\"]\n",
    "questions = []\n",
    "responses = [] \n",
    "# read the questions and answers in\n",
    "# Using readline() \n",
    "qFile = open(theQuestionsFileName, 'r') \n",
    "thisQ = 0\n",
    "  \n",
    "while True: \n",
    "    # Get next line from file \n",
    "    line = qFile.readline() \n",
    "    if not line: \n",
    "        print(\"unexpected end of file\")\n",
    "        break\n",
    "    # should be a question\n",
    "    elif (line[0] != 'Q' ):\n",
    "        print(\"didn't get expected question marker Q\")\n",
    "        break;\n",
    "    elif ( int(line[1:3]) != thisQ):\n",
    "        print(\"question had wrong number\")\n",
    "        break\n",
    "    else:\n",
    "        questions.append( line[5:-1])\n",
    "        if(debug2):\n",
    "            print(\"question {} is: {}\".format(thisQ,questions[thisQ]))        \n",
    "        \n",
    "    line = qFile.readline() # next line should be the corresponding answer\n",
    "    if not line: \n",
    "        print(\"unexpected end of file\")\n",
    "        break\n",
    "    elif (line[0] != 'A' ):\n",
    "        print(\"didn't get expected answer marker A\")\n",
    "        break;\n",
    "    elif (int(line[1:3]) != thisQ):\n",
    "        print(\"answer had wrong number\")\n",
    "        break\n",
    "    else:\n",
    "        responses.append(line[5:-1])\n",
    "        if(debug2):\n",
    "            print(\"response {} is: {}\".format(thisQ,responses[thisQ]))\n",
    "    \n",
    "    thisQ += 1\n",
    "    # then read the empty line separating QnA paits\n",
    "    line = qFile.readline()\n",
    "    \n",
    "    # if line is empty \n",
    "    # end of file is reached \n",
    "    if not line: \n",
    "        break\n",
    "    if(debug2):\n",
    "        print(\"\")\n",
    "\n",
    "qFile.close() \n",
    "\n",
    "\n",
    "\n",
    "\n",
    "# shuffle the order of the questions except the **three** context-dependent ones\n",
    "CQ1 = contextQuestions[0]\n",
    "CQ2 = contextQuestions[1]\n",
    "CQ3 = contextQuestions[2]\n",
    "toremove= [(CQ1 - 1),CQ1,(CQ2 - 1),CQ2,(CQ3 - 1),CQ3]\n",
    "#print(toremove)\n",
    "# make a shuffled list with the numbers 1...NUMQs except the ones above in\n",
    "order = []\n",
    "for i in range (NUMQS):\n",
    "    if i not in toremove:\n",
    "        order.append(i)\n",
    "random.shuffle(order)\n",
    "\n",
    "#put the context dependent Qs and precursors back in\n",
    "order.insert(10,(CQ1 -1))\n",
    "order.insert(11,CQ1)\n",
    "order.insert(20,(CQ2-1))\n",
    "order.insert(21,CQ2)\n",
    "order.insert(30, (CQ3-1))\n",
    "order.insert(31,CQ3)\n",
    "#print(order)\n",
    "#print ( len(order))\n",
    "for i in range (NUMQS):\n",
    "    if i not in order:\n",
    "        print(\"{} is missing\".format(i))\n",
    "\n",
    "# check that there are the right number\n",
    "if (thisQ <NUMQS ):\n",
    "    print(\"error, only {} question-answer pairs read\".format(thisQ))\n",
    "elif (len(questions) < NUMQS or len(responses)<NUMQS):\n",
    "    print(\"error, somehow the questions or responses have not all be saved\")\n",
    "    if(debug):\n",
    "        print(\" {} questions and {}responses read, thisQ = {}\".format(len(questions),len(responses),thisQ))\n",
    "else: \n",
    "    print('{} question-response pairs read for testing your bot'.format(thisQ))"
   ]
  },
  {
   "cell_type": "markdown",
   "metadata": {},
   "source": [
    "# Create the chatbot"
   ]
  },
  {
   "cell_type": "code",
   "execution_count": null,
   "metadata": {},
   "outputs": [
    {
     "ename": "",
     "evalue": "",
     "output_type": "error",
     "traceback": [
      "\u001b[1;31mFailed to start the Kernel. \n",
      "\u001b[1;31mUnable to start Kernel 'Python' due to connection timeout. \n",
      "\u001b[1;31mView Jupyter <a href='command:jupyter.viewOutput'>log</a> for further details."
     ]
    }
   ],
   "source": [
    "# Create Chatbot and read the candidate AIML file\n",
    "checkBot = aiml.Kernel()\n",
    "checkBot.verbose(True)"
   ]
  },
  {
   "cell_type": "markdown",
   "metadata": {},
   "source": [
    "## Clear any old categories,  reload the AIML file"
   ]
  },
  {
   "cell_type": "code",
   "execution_count": null,
   "metadata": {},
   "outputs": [
    {
     "ename": "",
     "evalue": "",
     "output_type": "error",
     "traceback": [
      "\u001b[1;31mFailed to start the Kernel. \n",
      "\u001b[1;31mUnable to start Kernel 'Python' due to connection timeout. \n",
      "\u001b[1;31mView Jupyter <a href='command:jupyter.viewOutput'>log</a> for further details."
     ]
    }
   ],
   "source": [
    "checkBot.resetBrain()\n",
    "checkBot.learn(theAIMLfile)\n",
    "\n",
    "# How many categories were correctly read\n",
    "numCategories = checkBot.numCategories()\n",
    "print( \"After reading your file the bot has {} categories\".format(numCategories))\n",
    "print( \"Remember that the bot will overwrite categories with the same pattern, that and topic\".format(numCategories))\n",
    "print('This number should help you fix misformed categories if needed\\n')\n"
   ]
  },
  {
   "cell_type": "markdown",
   "metadata": {},
   "source": [
    "### See how frequently different language constrcuts have been used"
   ]
  },
  {
   "cell_type": "code",
   "execution_count": null,
   "metadata": {},
   "outputs": [
    {
     "ename": "",
     "evalue": "",
     "output_type": "error",
     "traceback": [
      "\u001b[1;31mFailed to start the Kernel. \n",
      "\u001b[1;31mUnable to start Kernel 'Python' due to connection timeout. \n",
      "\u001b[1;31mView Jupyter <a href='command:jupyter.viewOutput'>log</a> for further details."
     ]
    }
   ],
   "source": [
    "# either figure out how to query the bot categories\n",
    "## or open the student.aiml file and read it line by line looking for <srai> <set> <star/> and <that>\n",
    "file2 = open(theAIMLfile,'r')\n",
    "srai_count = 0\n",
    "set_count = 0\n",
    "wildcard_count=0\n",
    "starslash_count=0\n",
    "that_count = 0\n",
    "condition_count= 0\n",
    "\n",
    "#read through line by line coutning uise of AIML constructs\n",
    "while(True):\n",
    "    line = file2.readline()\n",
    "    if not line:\n",
    "        break\n",
    "    if \"<srai>\" in line:\n",
    "        srai_count += 1\n",
    "    if \"<set\" in line: # just use start - they ar hopefullty defining a name for their variable\n",
    "        set_count += 1\n",
    "    if (\"*\" in line) or (\"_\" in line) or (\"^\" in line) or (\"#\" in line):\n",
    "        wildcard_count +=1\n",
    "    if \"<star\" in line: #just look for start of tag in case they used indexing\n",
    "        starslash_count += 1\n",
    "    if \"<that\" in line: #just look for start of tag in case they used indexing\n",
    "        that_count +=1\n",
    "    if \"<that\" in line: #just look for start of tag in case they used indexing\n",
    "        condition_count +=1\n",
    "file2.close()       \n",
    "        \n"
   ]
  },
  {
   "cell_type": "markdown",
   "metadata": {},
   "source": [
    "# Ask the questions, check and store the responses"
   ]
  },
  {
   "cell_type": "code",
   "execution_count": null,
   "metadata": {},
   "outputs": [
    {
     "ename": "",
     "evalue": "",
     "output_type": "error",
     "traceback": [
      "\u001b[1;31mFailed to start the Kernel. \n",
      "\u001b[1;31mUnable to start Kernel 'Python' due to connection timeout. \n",
      "\u001b[1;31mView Jupyter <a href='command:jupyter.viewOutput'>log</a> for further details."
     ]
    }
   ],
   "source": [
    "\n",
    "\n",
    "# initialise score\n",
    "numCorrect = 0\n",
    "numContextQsCorrect=0\n",
    "numNoMatch=0\n",
    "responsesFile = open(responsesFileName,'w')\n",
    "\n",
    "for q in range (NUMQS):\n",
    "    thisQ = order[q]\n",
    "    #get bot's response to question\n",
    "    botResponse = checkBot.respond(questions[thisQ])\n",
    "    if(botResponse==\"\"):\n",
    "        numNoMatch +=1\n",
    "    responsesFile.write('Q{:2d}: {}\\n'.format(thisQ, questions[thisQ]))\n",
    "    responsesFile.write('Expected response: {}\\n'.format(responses[thisQ]))\n",
    "    responsesFile.write('Your bot response: {}\\n'.format(botResponse))\n",
    "    # check if it matches the required input\n",
    "    if botResponse == responses[thisQ] :\n",
    "        #print('question {} answered correctly'.format(thisQ))\n",
    "        responsesFile.write('*** Question answered correctly\\n\\n')\n",
    "        numCorrect +=1\n",
    "        if thisQ in contextQuestions:\n",
    "            numContextQsCorrect +=1\n",
    "    else:\n",
    "        responsesFile.write('Question answered incorrectly\\n\\n')\n",
    "        if(debug):\n",
    "            theInput = questions[thisQ]\n",
    "            print('Q{} {}\\n gets preprocessed as:{}'.format(thisQ,theInput,preprocessSingleInput(checkBot,theInput)))\n",
    "            print(' expected :' +responses[thisQ])\n",
    "            print(' got      :' +botResponse)\n",
    "            lastThat = checkBot.getPredicate(\"_outputHistory\")\n",
    "\n",
    "# write final line to log file and exit\n",
    "responsesFile.write(' In total you got {} questions correct'.format(numCorrect))\n",
    "responsesFile.close()"
   ]
  },
  {
   "cell_type": "markdown",
   "metadata": {},
   "source": [
    "# Calculate final score and feedback"
   ]
  },
  {
   "cell_type": "code",
   "execution_count": null,
   "metadata": {
    "scrolled": true
   },
   "outputs": [
    {
     "ename": "",
     "evalue": "",
     "output_type": "error",
     "traceback": [
      "\u001b[1;31mFailed to start the Kernel. \n",
      "\u001b[1;31mUnable to start Kernel 'Python' due to connection timeout. \n",
      "\u001b[1;31mView Jupyter <a href='command:jupyter.viewOutput'>log</a> for further details."
     ]
    }
   ],
   "source": [
    "\n",
    "feedbackFile = open(feedbackFileName,'w')\n",
    "\n",
    "\n",
    "# calculate final score\n",
    "finalScore= numCorrect \n",
    "# if all questions correct then we start rewarding go solutions\n",
    "if (numCorrect==NUMQS):\n",
    "    if (numCategories <10):\n",
    "        finalScore = 100\n",
    "    else:\n",
    "        finalScore = 90 - numCategories\n",
    "\n",
    "# provide output for DEWIS\n",
    "feedbackFile.write('<SCORE>{}</SCORE>\\n'.format(finalScore))\n",
    "\n",
    "fstart=  \"<MESSAGE>\"\n",
    "fend = \"</MESSAGE>\\n\"\n",
    "\n",
    "feedback = fstart + \"After removing duplicates, your bot used \" + str(numCategories) + \" categories\" +fend\n",
    "feedbackFile.write(feedback)\n",
    "\n",
    "# what did the submission get wrong and why?\n",
    "if(numCorrect < NUMQS):\n",
    "    feedback = fstart+ \"Your bot answered one or more questions incorrectly.\" +fend \n",
    "    feedbackFile.write(feedback)\n",
    "    feedback = fstart + \"File \" + responsesFileName + \" has more details of your bots responses.\" +fend\n",
    "    feedbackFile.write(feedback)\n",
    "    feedback = fstart + \"Common mistakes are typos or extra spaces\" +fend\n",
    "    feedbackFile.write(feedback)\n",
    "    \n",
    "    if(numNoMatch>0):\n",
    "        feedback = fstart + \"For \" + str(numNoMatch) +\" questions your bot did not have a matching category.\" +fend\n",
    "        feedbackFile.write(feedback)\n",
    "    contextErrors = NUMCONTEXTQS - numContextQsCorrect\n",
    "    if( contextErrors >0 ):\n",
    "        feedback= fstart +\"Your bot answered incorrectly for \" + str(contextErrors) + \" questions that require a sense of context.\" +fend\n",
    "        feedbackFile.write(feedback)\n",
    "\n",
    "else: #\n",
    "    feedback = fstart +\"Your bot answered every question correctly using \" + str(numCategories) + \" categories\" +fend\n",
    "    feedbackFile.write(feedback)\n",
    "    if ( srai_count==0  or wildcard_count ==0 or starslash_count==0):\n",
    "        feedback = fstart+ \"You can improve your score by generalising using srai and wildcards.\" + fend\n",
    "        feedbackFile.write(feedback)\n",
    "    if (set_count==0 or that_count==0):\n",
    "        feedback = fstart + \"You can improve your score by remembering context and what the conversation is talking about.\" +fend\n",
    "        feedbackFile.write(feedback)\n",
    "    if(condition_count==0):\n",
    "        feedback = fstart + \"You can use <condition> to change behaviour within a category.\" +fend\n",
    "        feedbackFile.write(feedback)\n",
    "    if(numCategories <=11):\n",
    "        feedback = fstart + \"Congratulations, you have matched Jim's score!\" +fend\n",
    "        feedbackFile.write(feedback)\n",
    "\n",
    "\n",
    "feedbackFile.close()"
   ]
  },
  {
   "cell_type": "markdown",
   "metadata": {},
   "source": [
    "# Uncomment the cell below if you want to run your bot interactively"
   ]
  },
  {
   "cell_type": "code",
   "execution_count": null,
   "metadata": {},
   "outputs": [
    {
     "ename": "",
     "evalue": "",
     "output_type": "error",
     "traceback": [
      "\u001b[1;31mFailed to start the Kernel. \n",
      "\u001b[1;31mUnable to start Kernel 'Python' due to connection timeout. \n",
      "\u001b[1;31mView Jupyter <a href='command:jupyter.viewOutput'>log</a> for further details."
     ]
    }
   ],
   "source": [
    "#keepgoing= True\n",
    "#while(keepgoing):\n",
    "#    nextInput = input(\"Enter your message >> \")\n",
    "#    if (nextInput=='bye'):\n",
    "#       keepgoing= False\n",
    "#    else:\n",
    "#        print (checkBot.respond(nextInput))"
   ]
  },
  {
   "cell_type": "code",
   "execution_count": null,
   "metadata": {},
   "outputs": [
    {
     "ename": "",
     "evalue": "",
     "output_type": "error",
     "traceback": [
      "\u001b[1;31mFailed to start the Kernel. \n",
      "\u001b[1;31mUnable to start Kernel 'Python' due to connection timeout. \n",
      "\u001b[1;31mView Jupyter <a href='command:jupyter.viewOutput'>log</a> for further details."
     ]
    }
   ],
   "source": []
  }
 ],
 "metadata": {
  "interpreter": {
   "hash": "bc16cc9e28a05190048fc252bdc931dcdd622bb57169c1b4fef0aba5daa0d1b2"
  },
  "kernelspec": {
   "display_name": "Python 3 (ipykernel)",
   "language": "python",
   "name": "python3"
  },
  "language_info": {
   "codemirror_mode": {
    "name": "ipython",
    "version": 3
   },
   "file_extension": ".py",
   "mimetype": "text/x-python",
   "name": "python",
   "nbconvert_exporter": "python",
   "pygments_lexer": "ipython3",
   "version": "3.10.-1"
  }
 },
 "nbformat": 4,
 "nbformat_minor": 4
}
